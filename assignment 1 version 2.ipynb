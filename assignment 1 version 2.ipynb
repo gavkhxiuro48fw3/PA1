{
 "cells": [
  {
   "cell_type": "markdown",
   "id": "c96857a6",
   "metadata": {},
   "source": [
    "## Gavin Trumbull\n",
    "# assignment 1, eric matthes, 2nd edition, spring 2023\n",
    "# CS150\n"
   ]
  },
  {
   "cell_type": "markdown",
   "id": "1c0e385e",
   "metadata": {},
   "source": [
    "## Getting started with markdown"
   ]
  },
  {
   "cell_type": "markdown",
   "id": "12328320",
   "metadata": {},
   "source": [
    "> of my choice of text inside"
   ]
  },
  {
   "cell_type": "markdown",
   "id": "1aa5a64b",
   "metadata": {},
   "source": [
    "* variables and simple data types\n",
    "* Introducing lists, tuples\n",
    "* if statements\n",
    "* dictionaries\n",
    "* while loops\n",
    "* functions\n",
    "* classes\n",
    "* numpy"
   ]
  },
  {
   "cell_type": "markdown",
   "id": "c958b376",
   "metadata": {},
   "source": [
    "1. assignment 1\n",
    "2. assignment 2\n",
    "3. assignment 3\n",
    "4. assignment 4\n",
    "5. assignment 5\n",
    "6. assignment 6\n",
    "7. assignment 7"
   ]
  },
  {
   "cell_type": "markdown",
   "id": "54573401",
   "metadata": {},
   "source": [
    "**this is a full sentance with bold words**"
   ]
  },
  {
   "cell_type": "markdown",
   "id": "bb4f9a10",
   "metadata": {},
   "source": [
    "*this is a full sentence with italicized words*"
   ]
  },
  {
   "cell_type": "markdown",
   "id": "59215029",
   "metadata": {},
   "source": [
    "in this sentence `these words are highlighted`"
   ]
  },
  {
   "cell_type": "markdown",
   "id": "4286075a",
   "metadata": {},
   "source": [
    "my github link is <a href=\"https://github.com/gavkhxiuro48fw3\">here</a>"
   ]
  },
  {
   "cell_type": "markdown",
   "id": "afc66ab4",
   "metadata": {},
   "source": [
    "![image](https://upload.wikimedia.org/wikipedia/commons/thumb/9/91/Octicons-mark-github.svg/600px-Octicons-mark-github.svg.png?20180806170715)"
   ]
  },
  {
   "cell_type": "code",
   "execution_count": null,
   "id": "a47cab6d",
   "metadata": {},
   "outputs": [],
   "source": []
  }
 ],
 "metadata": {
  "kernelspec": {
   "display_name": "Python 3 (ipykernel)",
   "language": "python",
   "name": "python3"
  },
  "language_info": {
   "codemirror_mode": {
    "name": "ipython",
    "version": 3
   },
   "file_extension": ".py",
   "mimetype": "text/x-python",
   "name": "python",
   "nbconvert_exporter": "python",
   "pygments_lexer": "ipython3",
   "version": "3.9.13"
  }
 },
 "nbformat": 4,
 "nbformat_minor": 5
}
